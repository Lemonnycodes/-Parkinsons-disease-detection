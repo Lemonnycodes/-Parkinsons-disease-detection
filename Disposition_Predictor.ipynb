{
  "nbformat": 4,
  "nbformat_minor": 0,
  "metadata": {
    "colab": {
      "name": "Disposition Predictor.ipynb",
      "provenance": [],
      "collapsed_sections": [],
      "authorship_tag": "ABX9TyPmKDJmdlBbHK7wRrfSPrkq",
      "include_colab_link": true
    },
    "kernelspec": {
      "name": "python3",
      "display_name": "Python 3"
    },
    "language_info": {
      "name": "python"
    }
  },
  "cells": [
    {
      "cell_type": "markdown",
      "metadata": {
        "id": "view-in-github",
        "colab_type": "text"
      },
      "source": [
        "<a href=\"https://colab.research.google.com/github/swathidharmasankaran/-Parkinsons-disease-detection/blob/main/Disposition_Predictor.ipynb\" target=\"_parent\"><img src=\"https://colab.research.google.com/assets/colab-badge.svg\" alt=\"Open In Colab\"/></a>"
      ]
    },
    {
      "cell_type": "code",
      "metadata": {
        "colab": {
          "base_uri": "https://localhost:8080/"
        },
        "id": "7eTCx5xPmv50",
        "outputId": "8607219c-2f42-4b2b-e9c7-e18a2e602ce5"
      },
      "source": [
        "from google.colab import drive\n",
        "drive.mount('/content/gdrive')"
      ],
      "execution_count": null,
      "outputs": [
        {
          "output_type": "stream",
          "text": [
            "Mounted at /content/gdrive\n"
          ],
          "name": "stdout"
        }
      ]
    },
    {
      "cell_type": "code",
      "metadata": {
        "id": "zRTe62_vnGjY"
      },
      "source": [
        "import pandas as pd\n",
        "from numpy import *\n",
        "import numpy as np\n",
        "from sklearn import preprocessing\n",
        "from sklearn import datasets, linear_model\n",
        "from sklearn.metrics import mean_squared_error, r2_score\n",
        "from sklearn import metrics\n",
        "from sklearn.model_selection import train_test_split\n",
        "from sklearn.model_selection import train_test_split\n",
        "from sklearn import neighbors"
      ],
      "execution_count": null,
      "outputs": []
    },
    {
      "cell_type": "code",
      "metadata": {
        "id": "-GlBelNvnYCN"
      },
      "source": [
        "data =pd.read_csv('gdrive/My Drive/personality predictor/train dataset.csv')\n",
        "array = data.values\n"
      ],
      "execution_count": null,
      "outputs": []
    },
    {
      "cell_type": "code",
      "metadata": {
        "id": "5IBzi69Knue9"
      },
      "source": [
        "for i in range(len(array)):\n",
        "\tif array[i][0]==\"Male\":\n",
        "\t\tarray[i][0]=1\n",
        "\telse:\n",
        "\t\tarray[i][0]=0\n"
      ],
      "execution_count": null,
      "outputs": []
    },
    {
      "cell_type": "code",
      "metadata": {
        "id": "NImQkyDOpIgn"
      },
      "source": [
        "df=pd.DataFrame(array)"
      ],
      "execution_count": null,
      "outputs": []
    },
    {
      "cell_type": "code",
      "metadata": {
        "colab": {
          "base_uri": "https://localhost:8080/"
        },
        "id": "YN0e2atapMX7",
        "outputId": "51577194-63d6-45ba-edcf-7972ac4c5319"
      },
      "source": [
        "maindf =df[[0,1,2,3,4,5,6]]\n",
        "mainarray=maindf.values\n",
        "print (mainarray)\n"
      ],
      "execution_count": null,
      "outputs": [
        {
          "output_type": "stream",
          "text": [
            "[[1 17 7 ... 7 3 2]\n",
            " [1 19 4 ... 4 6 6]\n",
            " [0 18 7 ... 4 5 5]\n",
            " ...\n",
            " [1 22 5 ... 3 6 1]\n",
            " [1 19 5 ... 5 7 5]\n",
            " [0 18 5 ... 7 6 5]]\n"
          ],
          "name": "stdout"
        }
      ]
    },
    {
      "cell_type": "code",
      "metadata": {
        "id": "eEhdX7qUpPY7"
      },
      "source": [
        "\n",
        "temp=df[7]\n",
        "train_y =temp.values\n",
        "train_y=temp.values"
      ],
      "execution_count": null,
      "outputs": []
    },
    {
      "cell_type": "code",
      "metadata": {
        "id": "WFWjVPAgpVWv"
      },
      "source": [
        "\n",
        "for i in range(len(train_y)):\n",
        "\ttrain_y[i] =str(train_y[i])"
      ],
      "execution_count": null,
      "outputs": []
    },
    {
      "cell_type": "code",
      "metadata": {
        "colab": {
          "base_uri": "https://localhost:8080/"
        },
        "id": "DsSMMPcEpZR8",
        "outputId": "8aac6d67-4259-4851-9e34-3c69bf21eda6"
      },
      "source": [
        "mul_lr = linear_model.LogisticRegression(multi_class='multinomial', solver='newton-cg',max_iter =1000)\n",
        "mul_lr.fit(mainarray, train_y)"
      ],
      "execution_count": null,
      "outputs": [
        {
          "output_type": "execute_result",
          "data": {
            "text/plain": [
              "LogisticRegression(C=1.0, class_weight=None, dual=False, fit_intercept=True,\n",
              "                   intercept_scaling=1, l1_ratio=None, max_iter=1000,\n",
              "                   multi_class='multinomial', n_jobs=None, penalty='l2',\n",
              "                   random_state=None, solver='newton-cg', tol=0.0001, verbose=0,\n",
              "                   warm_start=False)"
            ]
          },
          "metadata": {
            "tags": []
          },
          "execution_count": 12
        }
      ]
    },
    {
      "cell_type": "code",
      "metadata": {
        "id": "VJs1rqe4pcMW"
      },
      "source": [
        "testdata =pd.read_csv('gdrive/My Drive/personality predictor/test dataset.csv')\n",
        "test = testdata.values"
      ],
      "execution_count": null,
      "outputs": []
    },
    {
      "cell_type": "code",
      "metadata": {
        "id": "KYni_S-5pqKS"
      },
      "source": [
        "for i in range(len(test)):\n",
        "\tif test[i][0]==\"Male\":\n",
        "\t\ttest[i][0]=1\n",
        "\telse:\n",
        "\t\ttest[i][0]=0"
      ],
      "execution_count": null,
      "outputs": []
    },
    {
      "cell_type": "code",
      "metadata": {
        "id": "zX-0hG_Up3oO"
      },
      "source": [
        "df1=pd.DataFrame(test)"
      ],
      "execution_count": null,
      "outputs": []
    },
    {
      "cell_type": "code",
      "metadata": {
        "colab": {
          "base_uri": "https://localhost:8080/"
        },
        "id": "9IFq_bZ-p7s1",
        "outputId": "14cbe13a-5f23-4393-bd5b-46321c0686f9"
      },
      "source": [
        "testdf =df1[[0,1,2,3,4,5,6]]\n",
        "maintestarray=testdf.values\n",
        "print(maintestarray)\n"
      ],
      "execution_count": null,
      "outputs": [
        {
          "output_type": "stream",
          "text": [
            "[[0 20 7 ... 9 5 5]\n",
            " [1 17 5 ... 5 2 4]\n",
            " [0 25 5 ... 7 2 4]\n",
            " ...\n",
            " [1 18 7 ... 6 2 7]\n",
            " [1 23 6 ... 5 4 3]\n",
            " [0 18 5 ... 3 5 6]]\n"
          ],
          "name": "stdout"
        }
      ]
    },
    {
      "cell_type": "code",
      "metadata": {
        "id": "j5SZ0YmHp-Y1"
      },
      "source": [
        "y_pred = mul_lr.predict(maintestarray)\n",
        "for i in range(len(y_pred)) :\n",
        "\ty_pred[i]=str((y_pred[i]))\n",
        "DF = pd.DataFrame(y_pred,columns=['Predicted Personality'])\n",
        "DF.index=DF.index+1\n",
        "DF.index.names = ['Person No']\n",
        "DF.to_csv(\"gdrive/My Drive/personality predictor/personality predicted.csv\")\n"
      ],
      "execution_count": null,
      "outputs": []
    },
    {
      "cell_type": "code",
      "metadata": {
        "id": "Su4nXvG5qLCc"
      },
      "source": [
        ""
      ],
      "execution_count": null,
      "outputs": []
    }
  ]
}